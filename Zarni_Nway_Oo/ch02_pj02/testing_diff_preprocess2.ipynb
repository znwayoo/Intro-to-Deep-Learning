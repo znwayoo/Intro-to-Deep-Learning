{
 "cells": [
  {
   "cell_type": "code",
   "execution_count": 1,
   "metadata": {},
   "outputs": [],
   "source": [
    "#!pip install openpyxl for reading excel"
   ]
  },
  {
   "cell_type": "code",
   "execution_count": 2,
   "metadata": {},
   "outputs": [],
   "source": [
    "import data_cleaning as dc\n",
    "dc.main()"
   ]
  },
  {
   "cell_type": "markdown",
   "metadata": {},
   "source": [
    "The first step in our pipeline involves loading the data into a pandas DataFrame. This is accomplished using the pandas library, which is imported at the beginning of the script."
   ]
  },
  {
   "cell_type": "code",
   "execution_count": 3,
   "metadata": {},
   "outputs": [],
   "source": [
    "# Step 1: Load the data\n",
    "import pandas as pd\n",
    "\n",
    "df = pd.read_csv('./data/MMNames_clean.csv')"
   ]
  },
  {
   "cell_type": "code",
   "execution_count": 4,
   "metadata": {},
   "outputs": [
    {
     "name": "stdout",
     "output_type": "stream",
     "text": [
      "(13659, 2252) (5854, 2252)\n"
     ]
    },
    {
     "name": "stderr",
     "output_type": "stream",
     "text": [
      "[nltk_data] Downloading package punkt to\n",
      "[nltk_data]     /Users/zarninwayoo/nltk_data...\n",
      "[nltk_data]   Package punkt is already up-to-date!\n",
      "[nltk_data] Downloading package stopwords to\n",
      "[nltk_data]     /Users/zarninwayoo/nltk_data...\n",
      "[nltk_data]   Package stopwords is already up-to-date!\n",
      "[nltk_data] Downloading package wordnet to\n",
      "[nltk_data]     /Users/zarninwayoo/nltk_data...\n",
      "[nltk_data]   Package wordnet is already up-to-date!\n"
     ]
    }
   ],
   "source": [
    "# Step 2: Prepare the data\n",
    "import data_preprocessing as dp\n",
    "from sklearn.preprocessing import StandardScaler\n",
    "from sklearn.model_selection import train_test_split\n",
    "\n",
    "df = dp.preprocess_category(df,'SR_Name')\n",
    "# df = dp.preprocess_onehot(df,'name')\n",
    "\n",
    "y = df['SR_Name'].values \n",
    "X = dp.preprocess_textinput_tfidf(df, 'name')\n",
    "\n",
    "X_train, X_test, y_train, y_test = train_test_split(X, y, test_size=0.3, random_state=42)\n",
    "print(X_train.shape, X_test.shape)\n"
   ]
  },
  {
   "cell_type": "code",
   "execution_count": 5,
   "metadata": {},
   "outputs": [],
   "source": [
    "# Step 3: Build a NN model with TensorFlow\n",
    "import tensorflow as tf\n",
    "\n",
    "def create_classification_model(input_shape, num_classes, params={}):\n",
    "    model = tf.keras.Sequential([\n",
    "        tf.keras.Input(shape=input_shape),\n",
    "        tf.keras.layers.Dense(32, activation='relu'),\n",
    "        tf.keras.layers.Dense(16, activation='relu'),\n",
    "        tf.keras.layers.Dense(num_classes, activation='softmax')\n",
    "    ])\n",
    "\n",
    "    model.compile(optimizer='adam', loss='sparse_categorical_crossentropy', metrics=['accuracy'])\n",
    "    \n",
    "    return model"
   ]
  },
  {
   "cell_type": "code",
   "execution_count": 6,
   "metadata": {},
   "outputs": [
    {
     "name": "stderr",
     "output_type": "stream",
     "text": [
      "2025-06-14 23:10:29.685050: W tensorflow/tsl/platform/profile_utils/cpu_utils.cc:128] Failed to get CPU frequency: 0 Hz\n"
     ]
    },
    {
     "name": "stdout",
     "output_type": "stream",
     "text": [
      "12.021458864212036\n"
     ]
    }
   ],
   "source": [
    "# Step 4: Create and train the model\n",
    "import time\n",
    "\n",
    "start_time = time.time()\n",
    "model = create_classification_model(input_shape=[X_train.shape[1]],num_classes=len(df['SR_Name'].unique()), )\n",
    "history = model.fit(X_train, y_train, epochs=50, batch_size=32, validation_data=(X_test, y_test), verbose=0)\n",
    "\n",
    "training_time = time.time() - start_time\n",
    "print(training_time)"
   ]
  },
  {
   "cell_type": "code",
   "execution_count": 7,
   "metadata": {},
   "outputs": [
    {
     "name": "stdout",
     "output_type": "stream",
     "text": [
      "Model: \"sequential\"\n",
      "_________________________________________________________________\n",
      " Layer (type)                Output Shape              Param #   \n",
      "=================================================================\n",
      " dense (Dense)               (None, 32)                72096     \n",
      "                                                                 \n",
      " dense_1 (Dense)             (None, 16)                528       \n",
      "                                                                 \n",
      " dense_2 (Dense)             (None, 18)                306       \n",
      "                                                                 \n",
      "=================================================================\n",
      "Total params: 72,930\n",
      "Trainable params: 72,930\n",
      "Non-trainable params: 0\n",
      "_________________________________________________________________\n"
     ]
    }
   ],
   "source": [
    "model.summary()"
   ]
  },
  {
   "cell_type": "code",
   "execution_count": 8,
   "metadata": {},
   "outputs": [
    {
     "name": "stdout",
     "output_type": "stream",
     "text": [
      "Class distribution:\n",
      "0     1561\n",
      "1      648\n",
      "2      571\n",
      "3      434\n",
      "4      620\n",
      "5      174\n",
      "6      381\n",
      "7     1580\n",
      "8     1334\n",
      "9      401\n",
      "10     149\n",
      "11     932\n",
      "12    2310\n",
      "13     175\n",
      "14    1004\n",
      "15     428\n",
      "16     372\n",
      "17     585\n",
      "Name: count, dtype: int64\n"
     ]
    }
   ],
   "source": [
    "print(\"Class distribution:\")\n",
    "print(pd.Series(y_train).value_counts().sort_index())"
   ]
  },
  {
   "cell_type": "code",
   "execution_count": 9,
   "metadata": {},
   "outputs": [],
   "source": [
    "# Step 5: Evaluate the model\n",
    "\n",
    "from sklearn.metrics import confusion_matrix\n",
    "from sklearn.metrics import classification_report\n",
    "from sklearn.metrics import accuracy_score\n",
    "\n",
    "y_pred = model.predict(X_test, batch_size=32, verbose=0)\n",
    "y_pred = y_pred.argmax(axis=1)\n",
    "report = classification_report(y_test, y_pred, output_dict=True)\n",
    "report_df = pd.DataFrame(report).round(2).transpose()\n",
    "report_df.to_csv('./data/cls_report_test.csv', index=False)\n",
    "\n",
    "\n"
   ]
  },
  {
   "cell_type": "code",
   "execution_count": 10,
   "metadata": {},
   "outputs": [
    {
     "name": "stdout",
     "output_type": "stream",
     "text": [
      "0.3344721557909122\n",
      "              precision    recall  f1-score   support\n",
      "\n",
      "           0       0.35      0.36      0.36       617\n",
      "           1       0.20      0.12      0.15       273\n",
      "           2       0.20      0.16      0.18       243\n",
      "           3       0.49      0.20      0.28       214\n",
      "           4       0.51      0.43      0.47       258\n",
      "           5       0.49      0.46      0.48        54\n",
      "           6       0.39      0.16      0.23       171\n",
      "           7       0.24      0.26      0.25       664\n",
      "           8       0.24      0.29      0.26       569\n",
      "           9       0.32      0.22      0.26       199\n",
      "          10       0.24      0.05      0.08        85\n",
      "          11       0.36      0.35      0.35       399\n",
      "          12       0.31      0.51      0.39       968\n",
      "          13       0.29      0.22      0.25        82\n",
      "          14       0.65      0.59      0.62       472\n",
      "          15       0.37      0.26      0.30       188\n",
      "          16       0.31      0.24      0.27       152\n",
      "          17       0.36      0.22      0.27       246\n",
      "\n",
      "    accuracy                           0.33      5854\n",
      "   macro avg       0.35      0.28      0.30      5854\n",
      "weighted avg       0.34      0.33      0.33      5854\n",
      "\n"
     ]
    }
   ],
   "source": [
    "print(accuracy_score(y_test, y_pred))\n",
    "print(classification_report(y_test, y_pred))"
   ]
  },
  {
   "cell_type": "code",
   "execution_count": 11,
   "metadata": {},
   "outputs": [],
   "source": [
    "y_pred = model.predict(X_train, batch_size=32, verbose=0)\n",
    "y_pred = y_pred.argmax(axis=1)\n",
    "report = classification_report(y_train, y_pred, output_dict=True)\n",
    "report_df = pd.DataFrame(report).round(2).transpose()\n",
    "report_df.to_csv('./data/cls_report_train.csv', index=False)"
   ]
  },
  {
   "cell_type": "code",
   "execution_count": 12,
   "metadata": {},
   "outputs": [
    {
     "name": "stdout",
     "output_type": "stream",
     "text": [
      "0.6336481440808258\n",
      "              precision    recall  f1-score   support\n",
      "\n",
      "           0       0.64      0.67      0.66      1561\n",
      "           1       0.69      0.39      0.50       648\n",
      "           2       0.45      0.37      0.41       571\n",
      "           3       0.90      0.90      0.90       434\n",
      "           4       0.89      0.76      0.82       620\n",
      "           5       0.91      0.79      0.85       174\n",
      "           6       0.84      0.58      0.69       381\n",
      "           7       0.50      0.52      0.51      1580\n",
      "           8       0.49      0.61      0.54      1334\n",
      "           9       0.72      0.53      0.61       401\n",
      "          10       0.89      0.17      0.28       149\n",
      "          11       0.68      0.69      0.68       932\n",
      "          12       0.52      0.71      0.60      2310\n",
      "          13       0.93      0.73      0.82       175\n",
      "          14       0.89      0.89      0.89      1004\n",
      "          15       0.88      0.61      0.72       428\n",
      "          16       0.81      0.58      0.68       372\n",
      "          17       0.72      0.45      0.55       585\n",
      "\n",
      "    accuracy                           0.63     13659\n",
      "   macro avg       0.74      0.61      0.65     13659\n",
      "weighted avg       0.66      0.63      0.63     13659\n",
      "\n"
     ]
    }
   ],
   "source": [
    "print(accuracy_score(y_train, y_pred))\n",
    "print(classification_report(y_train, y_pred))"
   ]
  }
 ],
 "metadata": {
  "kernelspec": {
   "display_name": "deepL",
   "language": "python",
   "name": "python3"
  },
  "language_info": {
   "codemirror_mode": {
    "name": "ipython",
    "version": 3
   },
   "file_extension": ".py",
   "mimetype": "text/x-python",
   "name": "python",
   "nbconvert_exporter": "python",
   "pygments_lexer": "ipython3",
   "version": "3.11.5"
  }
 },
 "nbformat": 4,
 "nbformat_minor": 2
}
