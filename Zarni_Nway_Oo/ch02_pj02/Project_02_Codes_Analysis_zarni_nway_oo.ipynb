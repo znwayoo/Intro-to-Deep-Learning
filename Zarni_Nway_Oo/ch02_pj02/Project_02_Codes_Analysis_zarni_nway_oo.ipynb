{
 "cells": [
  {
   "cell_type": "markdown",
   "id": "81ca2885",
   "metadata": {},
   "source": [
    "# Project Code Analysis"
   ]
  },
  {
   "cell_type": "markdown",
   "id": "50864ca0",
   "metadata": {},
   "source": [
    "## Data Cleaning Function Breakdown"
   ]
  },
  {
   "cell_type": "code",
   "execution_count": 1,
   "id": "26e3238c",
   "metadata": {},
   "outputs": [],
   "source": [
    "import pandas as pd"
   ]
  },
  {
   "cell_type": "code",
   "execution_count": 2,
   "id": "fa9b4e25",
   "metadata": {},
   "outputs": [],
   "source": [
    "df_towns = pd.read_excel('./data/MMNames_mimu.xlsx', sheet_name='Towns')\n",
    "df_villages = pd.read_excel('./data/MMNames_mimu.xlsx', sheet_name='Villages')\n",
    "df_news = pd.read_csv('./data/MMNames_news.csv')"
   ]
  },
  {
   "cell_type": "code",
   "execution_count": 3,
   "id": "1a6dc6fd",
   "metadata": {},
   "outputs": [
    {
     "name": "stdout",
     "output_type": "stream",
     "text": [
      "<class 'pandas.core.frame.DataFrame'>\n",
      "RangeIndex: 536 entries, 0 to 535\n",
      "Data columns (total 2 columns):\n",
      " #   Column         Non-Null Count  Dtype \n",
      "---  ------         --------------  ----- \n",
      " 0   SR_Name_Eng    536 non-null    object\n",
      " 1   Town_Name_Eng  536 non-null    object\n",
      "dtypes: object(2)\n",
      "memory usage: 8.5+ KB\n",
      "None\n",
      "<class 'pandas.core.frame.DataFrame'>\n",
      "RangeIndex: 14047 entries, 0 to 14046\n",
      "Data columns (total 2 columns):\n",
      " #   Column                  Non-Null Count  Dtype \n",
      "---  ------                  --------------  ----- \n",
      " 0   SR_Name_Eng             14047 non-null  object\n",
      " 1   Village_Tract_Name_Eng  14047 non-null  object\n",
      "dtypes: object(2)\n",
      "memory usage: 219.6+ KB\n",
      "None\n",
      "<class 'pandas.core.frame.DataFrame'>\n",
      "RangeIndex: 58789 entries, 0 to 58788\n",
      "Data columns (total 2 columns):\n",
      " #   Column    Non-Null Count  Dtype \n",
      "---  ------    --------------  ----- \n",
      " 0   admin1    58789 non-null  object\n",
      " 1   location  58789 non-null  object\n",
      "dtypes: object(2)\n",
      "memory usage: 918.7+ KB\n",
      "None\n"
     ]
    }
   ],
   "source": [
    "print(df_towns.info())\n",
    "print(df_villages.info())\n",
    "print(df_news.info())"
   ]
  },
  {
   "cell_type": "code",
   "execution_count": 4,
   "id": "ed894a43",
   "metadata": {},
   "outputs": [
    {
     "data": {
      "text/html": [
       "<div>\n",
       "<style scoped>\n",
       "    .dataframe tbody tr th:only-of-type {\n",
       "        vertical-align: middle;\n",
       "    }\n",
       "\n",
       "    .dataframe tbody tr th {\n",
       "        vertical-align: top;\n",
       "    }\n",
       "\n",
       "    .dataframe thead th {\n",
       "        text-align: right;\n",
       "    }\n",
       "</style>\n",
       "<table border=\"1\" class=\"dataframe\">\n",
       "  <thead>\n",
       "    <tr style=\"text-align: right;\">\n",
       "      <th></th>\n",
       "      <th>SR_Name_Eng</th>\n",
       "      <th>Town_Name_Eng</th>\n",
       "    </tr>\n",
       "  </thead>\n",
       "  <tbody>\n",
       "    <tr>\n",
       "      <th>0</th>\n",
       "      <td>Ayeyarwady</td>\n",
       "      <td>Bogale Town</td>\n",
       "    </tr>\n",
       "    <tr>\n",
       "      <th>1</th>\n",
       "      <td>Ayeyarwady</td>\n",
       "      <td>Danubyu Town</td>\n",
       "    </tr>\n",
       "    <tr>\n",
       "      <th>2</th>\n",
       "      <td>Ayeyarwady</td>\n",
       "      <td>Dedaye Town</td>\n",
       "    </tr>\n",
       "    <tr>\n",
       "      <th>3</th>\n",
       "      <td>Ayeyarwady</td>\n",
       "      <td>Einme Town</td>\n",
       "    </tr>\n",
       "    <tr>\n",
       "      <th>4</th>\n",
       "      <td>Ayeyarwady</td>\n",
       "      <td>Du Yar Town</td>\n",
       "    </tr>\n",
       "  </tbody>\n",
       "</table>\n",
       "</div>"
      ],
      "text/plain": [
       "  SR_Name_Eng Town_Name_Eng\n",
       "0  Ayeyarwady   Bogale Town\n",
       "1  Ayeyarwady  Danubyu Town\n",
       "2  Ayeyarwady   Dedaye Town\n",
       "3  Ayeyarwady    Einme Town\n",
       "4  Ayeyarwady   Du Yar Town"
      ]
     },
     "execution_count": 4,
     "metadata": {},
     "output_type": "execute_result"
    }
   ],
   "source": [
    "df_towns.head()"
   ]
  },
  {
   "cell_type": "code",
   "execution_count": 5,
   "id": "d3fe2543",
   "metadata": {},
   "outputs": [
    {
     "data": {
      "text/html": [
       "<div>\n",
       "<style scoped>\n",
       "    .dataframe tbody tr th:only-of-type {\n",
       "        vertical-align: middle;\n",
       "    }\n",
       "\n",
       "    .dataframe tbody tr th {\n",
       "        vertical-align: top;\n",
       "    }\n",
       "\n",
       "    .dataframe thead th {\n",
       "        text-align: right;\n",
       "    }\n",
       "</style>\n",
       "<table border=\"1\" class=\"dataframe\">\n",
       "  <thead>\n",
       "    <tr style=\"text-align: right;\">\n",
       "      <th></th>\n",
       "      <th>SR_Name_Eng</th>\n",
       "      <th>Village_Tract_Name_Eng</th>\n",
       "    </tr>\n",
       "  </thead>\n",
       "  <tbody>\n",
       "    <tr>\n",
       "      <th>0</th>\n",
       "      <td>Ayeyarwady</td>\n",
       "      <td>(Kyun Nyo Gyi) Kyun Hteik</td>\n",
       "    </tr>\n",
       "    <tr>\n",
       "      <th>1</th>\n",
       "      <td>Ayeyarwady</td>\n",
       "      <td>Auk Hle Seik</td>\n",
       "    </tr>\n",
       "    <tr>\n",
       "      <th>2</th>\n",
       "      <td>Ayeyarwady</td>\n",
       "      <td>Aye</td>\n",
       "    </tr>\n",
       "    <tr>\n",
       "      <th>3</th>\n",
       "      <td>Ayeyarwady</td>\n",
       "      <td>Aye Yar</td>\n",
       "    </tr>\n",
       "    <tr>\n",
       "      <th>4</th>\n",
       "      <td>Ayeyarwady</td>\n",
       "      <td>Boe Di Kwe</td>\n",
       "    </tr>\n",
       "  </tbody>\n",
       "</table>\n",
       "</div>"
      ],
      "text/plain": [
       "  SR_Name_Eng     Village_Tract_Name_Eng\n",
       "0  Ayeyarwady  (Kyun Nyo Gyi) Kyun Hteik\n",
       "1  Ayeyarwady               Auk Hle Seik\n",
       "2  Ayeyarwady                        Aye\n",
       "3  Ayeyarwady                    Aye Yar\n",
       "4  Ayeyarwady                 Boe Di Kwe"
      ]
     },
     "execution_count": 5,
     "metadata": {},
     "output_type": "execute_result"
    }
   ],
   "source": [
    "df_villages.head()"
   ]
  },
  {
   "cell_type": "code",
   "execution_count": 6,
   "id": "700f6670",
   "metadata": {},
   "outputs": [
    {
     "data": {
      "text/html": [
       "<div>\n",
       "<style scoped>\n",
       "    .dataframe tbody tr th:only-of-type {\n",
       "        vertical-align: middle;\n",
       "    }\n",
       "\n",
       "    .dataframe tbody tr th {\n",
       "        vertical-align: top;\n",
       "    }\n",
       "\n",
       "    .dataframe thead th {\n",
       "        text-align: right;\n",
       "    }\n",
       "</style>\n",
       "<table border=\"1\" class=\"dataframe\">\n",
       "  <thead>\n",
       "    <tr style=\"text-align: right;\">\n",
       "      <th></th>\n",
       "      <th>admin1</th>\n",
       "      <th>location</th>\n",
       "    </tr>\n",
       "  </thead>\n",
       "  <tbody>\n",
       "    <tr>\n",
       "      <th>0</th>\n",
       "      <td>Kachin</td>\n",
       "      <td>Hseng Taung (Ywar Haung)</td>\n",
       "    </tr>\n",
       "    <tr>\n",
       "      <th>1</th>\n",
       "      <td>Kachin</td>\n",
       "      <td>Hseng Taung (Ywar Haung)</td>\n",
       "    </tr>\n",
       "    <tr>\n",
       "      <th>2</th>\n",
       "      <td>Shan-South</td>\n",
       "      <td>Lel Kyar</td>\n",
       "    </tr>\n",
       "    <tr>\n",
       "      <th>3</th>\n",
       "      <td>Shan-South</td>\n",
       "      <td>Lel Kyar</td>\n",
       "    </tr>\n",
       "    <tr>\n",
       "      <th>4</th>\n",
       "      <td>Sagaing</td>\n",
       "      <td>Nyaung Pin Kan</td>\n",
       "    </tr>\n",
       "  </tbody>\n",
       "</table>\n",
       "</div>"
      ],
      "text/plain": [
       "       admin1                  location\n",
       "0      Kachin  Hseng Taung (Ywar Haung)\n",
       "1      Kachin  Hseng Taung (Ywar Haung)\n",
       "2  Shan-South                  Lel Kyar\n",
       "3  Shan-South                  Lel Kyar\n",
       "4     Sagaing            Nyaung Pin Kan"
      ]
     },
     "execution_count": 6,
     "metadata": {},
     "output_type": "execute_result"
    }
   ],
   "source": [
    "df_news.head()"
   ]
  },
  {
   "cell_type": "code",
   "execution_count": 7,
   "id": "093ae906",
   "metadata": {},
   "outputs": [],
   "source": [
    "import data_cleaning as dc\n",
    "dc.main()"
   ]
  },
  {
   "cell_type": "markdown",
   "id": "3ca8142e",
   "metadata": {},
   "source": [
    "What data_cleaning(dc) import do is that it loads the data from MMNames_mimu.xlsx excel sheets as well as MMNames_news.csv then it goes throught data cleaning process.\n",
    "\n",
    "1. It changes the towns, villages, and news columns to have consistent names"
   ]
  },
  {
   "cell_type": "code",
   "execution_count": 8,
   "id": "8318604e",
   "metadata": {},
   "outputs": [],
   "source": [
    "df_towns.columns = ['SR_Name', 'name']"
   ]
  },
  {
   "cell_type": "code",
   "execution_count": 9,
   "id": "cfd55e1a",
   "metadata": {},
   "outputs": [
    {
     "data": {
      "text/html": [
       "<div>\n",
       "<style scoped>\n",
       "    .dataframe tbody tr th:only-of-type {\n",
       "        vertical-align: middle;\n",
       "    }\n",
       "\n",
       "    .dataframe tbody tr th {\n",
       "        vertical-align: top;\n",
       "    }\n",
       "\n",
       "    .dataframe thead th {\n",
       "        text-align: right;\n",
       "    }\n",
       "</style>\n",
       "<table border=\"1\" class=\"dataframe\">\n",
       "  <thead>\n",
       "    <tr style=\"text-align: right;\">\n",
       "      <th></th>\n",
       "      <th>SR_Name</th>\n",
       "      <th>name</th>\n",
       "    </tr>\n",
       "  </thead>\n",
       "  <tbody>\n",
       "    <tr>\n",
       "      <th>0</th>\n",
       "      <td>Ayeyarwady</td>\n",
       "      <td>Bogale Town</td>\n",
       "    </tr>\n",
       "    <tr>\n",
       "      <th>1</th>\n",
       "      <td>Ayeyarwady</td>\n",
       "      <td>Danubyu Town</td>\n",
       "    </tr>\n",
       "    <tr>\n",
       "      <th>2</th>\n",
       "      <td>Ayeyarwady</td>\n",
       "      <td>Dedaye Town</td>\n",
       "    </tr>\n",
       "    <tr>\n",
       "      <th>3</th>\n",
       "      <td>Ayeyarwady</td>\n",
       "      <td>Einme Town</td>\n",
       "    </tr>\n",
       "    <tr>\n",
       "      <th>4</th>\n",
       "      <td>Ayeyarwady</td>\n",
       "      <td>Du Yar Town</td>\n",
       "    </tr>\n",
       "  </tbody>\n",
       "</table>\n",
       "</div>"
      ],
      "text/plain": [
       "      SR_Name          name\n",
       "0  Ayeyarwady   Bogale Town\n",
       "1  Ayeyarwady  Danubyu Town\n",
       "2  Ayeyarwady   Dedaye Town\n",
       "3  Ayeyarwady    Einme Town\n",
       "4  Ayeyarwady   Du Yar Town"
      ]
     },
     "execution_count": 9,
     "metadata": {},
     "output_type": "execute_result"
    }
   ],
   "source": [
    "df_towns.head()"
   ]
  },
  {
   "cell_type": "code",
   "execution_count": 10,
   "id": "a7823d34",
   "metadata": {},
   "outputs": [],
   "source": [
    "df_villages.columns = ['SR_Name', 'name']"
   ]
  },
  {
   "cell_type": "code",
   "execution_count": 11,
   "id": "c7327a98",
   "metadata": {},
   "outputs": [
    {
     "data": {
      "text/html": [
       "<div>\n",
       "<style scoped>\n",
       "    .dataframe tbody tr th:only-of-type {\n",
       "        vertical-align: middle;\n",
       "    }\n",
       "\n",
       "    .dataframe tbody tr th {\n",
       "        vertical-align: top;\n",
       "    }\n",
       "\n",
       "    .dataframe thead th {\n",
       "        text-align: right;\n",
       "    }\n",
       "</style>\n",
       "<table border=\"1\" class=\"dataframe\">\n",
       "  <thead>\n",
       "    <tr style=\"text-align: right;\">\n",
       "      <th></th>\n",
       "      <th>SR_Name</th>\n",
       "      <th>name</th>\n",
       "    </tr>\n",
       "  </thead>\n",
       "  <tbody>\n",
       "    <tr>\n",
       "      <th>0</th>\n",
       "      <td>Ayeyarwady</td>\n",
       "      <td>(Kyun Nyo Gyi) Kyun Hteik</td>\n",
       "    </tr>\n",
       "    <tr>\n",
       "      <th>1</th>\n",
       "      <td>Ayeyarwady</td>\n",
       "      <td>Auk Hle Seik</td>\n",
       "    </tr>\n",
       "    <tr>\n",
       "      <th>2</th>\n",
       "      <td>Ayeyarwady</td>\n",
       "      <td>Aye</td>\n",
       "    </tr>\n",
       "    <tr>\n",
       "      <th>3</th>\n",
       "      <td>Ayeyarwady</td>\n",
       "      <td>Aye Yar</td>\n",
       "    </tr>\n",
       "    <tr>\n",
       "      <th>4</th>\n",
       "      <td>Ayeyarwady</td>\n",
       "      <td>Boe Di Kwe</td>\n",
       "    </tr>\n",
       "  </tbody>\n",
       "</table>\n",
       "</div>"
      ],
      "text/plain": [
       "      SR_Name                       name\n",
       "0  Ayeyarwady  (Kyun Nyo Gyi) Kyun Hteik\n",
       "1  Ayeyarwady               Auk Hle Seik\n",
       "2  Ayeyarwady                        Aye\n",
       "3  Ayeyarwady                    Aye Yar\n",
       "4  Ayeyarwady                 Boe Di Kwe"
      ]
     },
     "execution_count": 11,
     "metadata": {},
     "output_type": "execute_result"
    }
   ],
   "source": [
    "df_villages.head()"
   ]
  },
  {
   "cell_type": "code",
   "execution_count": 12,
   "id": "2cd41172",
   "metadata": {},
   "outputs": [],
   "source": [
    "df_news.columns = ['SR_Name', 'name']"
   ]
  },
  {
   "cell_type": "code",
   "execution_count": 13,
   "id": "ef6bf274",
   "metadata": {},
   "outputs": [
    {
     "data": {
      "text/html": [
       "<div>\n",
       "<style scoped>\n",
       "    .dataframe tbody tr th:only-of-type {\n",
       "        vertical-align: middle;\n",
       "    }\n",
       "\n",
       "    .dataframe tbody tr th {\n",
       "        vertical-align: top;\n",
       "    }\n",
       "\n",
       "    .dataframe thead th {\n",
       "        text-align: right;\n",
       "    }\n",
       "</style>\n",
       "<table border=\"1\" class=\"dataframe\">\n",
       "  <thead>\n",
       "    <tr style=\"text-align: right;\">\n",
       "      <th></th>\n",
       "      <th>SR_Name</th>\n",
       "      <th>name</th>\n",
       "    </tr>\n",
       "  </thead>\n",
       "  <tbody>\n",
       "    <tr>\n",
       "      <th>0</th>\n",
       "      <td>Kachin</td>\n",
       "      <td>Hseng Taung (Ywar Haung)</td>\n",
       "    </tr>\n",
       "    <tr>\n",
       "      <th>1</th>\n",
       "      <td>Kachin</td>\n",
       "      <td>Hseng Taung (Ywar Haung)</td>\n",
       "    </tr>\n",
       "    <tr>\n",
       "      <th>2</th>\n",
       "      <td>Shan-South</td>\n",
       "      <td>Lel Kyar</td>\n",
       "    </tr>\n",
       "    <tr>\n",
       "      <th>3</th>\n",
       "      <td>Shan-South</td>\n",
       "      <td>Lel Kyar</td>\n",
       "    </tr>\n",
       "    <tr>\n",
       "      <th>4</th>\n",
       "      <td>Sagaing</td>\n",
       "      <td>Nyaung Pin Kan</td>\n",
       "    </tr>\n",
       "  </tbody>\n",
       "</table>\n",
       "</div>"
      ],
      "text/plain": [
       "      SR_Name                      name\n",
       "0      Kachin  Hseng Taung (Ywar Haung)\n",
       "1      Kachin  Hseng Taung (Ywar Haung)\n",
       "2  Shan-South                  Lel Kyar\n",
       "3  Shan-South                  Lel Kyar\n",
       "4     Sagaing            Nyaung Pin Kan"
      ]
     },
     "execution_count": 13,
     "metadata": {},
     "output_type": "execute_result"
    }
   ],
   "source": [
    "df_news.head()"
   ]
  },
  {
   "cell_type": "markdown",
   "id": "be33b36f",
   "metadata": {},
   "source": [
    "2. It then removes the 'Town' word from each of the rows in 'name' column"
   ]
  },
  {
   "cell_type": "code",
   "execution_count": 14,
   "id": "c286eb9f",
   "metadata": {},
   "outputs": [
    {
     "data": {
      "text/html": [
       "<div>\n",
       "<style scoped>\n",
       "    .dataframe tbody tr th:only-of-type {\n",
       "        vertical-align: middle;\n",
       "    }\n",
       "\n",
       "    .dataframe tbody tr th {\n",
       "        vertical-align: top;\n",
       "    }\n",
       "\n",
       "    .dataframe thead th {\n",
       "        text-align: right;\n",
       "    }\n",
       "</style>\n",
       "<table border=\"1\" class=\"dataframe\">\n",
       "  <thead>\n",
       "    <tr style=\"text-align: right;\">\n",
       "      <th></th>\n",
       "      <th>SR_Name</th>\n",
       "      <th>name</th>\n",
       "    </tr>\n",
       "  </thead>\n",
       "  <tbody>\n",
       "    <tr>\n",
       "      <th>0</th>\n",
       "      <td>Ayeyarwady</td>\n",
       "      <td>Bogale</td>\n",
       "    </tr>\n",
       "    <tr>\n",
       "      <th>1</th>\n",
       "      <td>Ayeyarwady</td>\n",
       "      <td>Danubyu</td>\n",
       "    </tr>\n",
       "    <tr>\n",
       "      <th>2</th>\n",
       "      <td>Ayeyarwady</td>\n",
       "      <td>Dedaye</td>\n",
       "    </tr>\n",
       "    <tr>\n",
       "      <th>3</th>\n",
       "      <td>Ayeyarwady</td>\n",
       "      <td>Einme</td>\n",
       "    </tr>\n",
       "    <tr>\n",
       "      <th>4</th>\n",
       "      <td>Ayeyarwady</td>\n",
       "      <td>Du Yar</td>\n",
       "    </tr>\n",
       "  </tbody>\n",
       "</table>\n",
       "</div>"
      ],
      "text/plain": [
       "      SR_Name     name\n",
       "0  Ayeyarwady   Bogale\n",
       "1  Ayeyarwady  Danubyu\n",
       "2  Ayeyarwady   Dedaye\n",
       "3  Ayeyarwady    Einme\n",
       "4  Ayeyarwady   Du Yar"
      ]
     },
     "execution_count": 14,
     "metadata": {},
     "output_type": "execute_result"
    }
   ],
   "source": [
    "df_towns['name'] = df_towns['name'].apply(lambda name: name.replace('Town', '').strip())\n",
    "df_towns.head()"
   ]
  },
  {
   "cell_type": "markdown",
   "id": "c1639cff",
   "metadata": {},
   "source": [
    "3. It then combined the two dfs to single df"
   ]
  },
  {
   "cell_type": "code",
   "execution_count": 15,
   "id": "8ea4c473",
   "metadata": {},
   "outputs": [],
   "source": [
    "df_mimu = pd.concat([df_towns, df_villages], ignore_index=True)"
   ]
  },
  {
   "cell_type": "code",
   "execution_count": 16,
   "id": "4cf54751",
   "metadata": {},
   "outputs": [
    {
     "data": {
      "text/html": [
       "<div>\n",
       "<style scoped>\n",
       "    .dataframe tbody tr th:only-of-type {\n",
       "        vertical-align: middle;\n",
       "    }\n",
       "\n",
       "    .dataframe tbody tr th {\n",
       "        vertical-align: top;\n",
       "    }\n",
       "\n",
       "    .dataframe thead th {\n",
       "        text-align: right;\n",
       "    }\n",
       "</style>\n",
       "<table border=\"1\" class=\"dataframe\">\n",
       "  <thead>\n",
       "    <tr style=\"text-align: right;\">\n",
       "      <th></th>\n",
       "      <th>SR_Name</th>\n",
       "      <th>name</th>\n",
       "    </tr>\n",
       "  </thead>\n",
       "  <tbody>\n",
       "    <tr>\n",
       "      <th>0</th>\n",
       "      <td>Ayeyarwady</td>\n",
       "      <td>Bogale</td>\n",
       "    </tr>\n",
       "    <tr>\n",
       "      <th>1</th>\n",
       "      <td>Ayeyarwady</td>\n",
       "      <td>Danubyu</td>\n",
       "    </tr>\n",
       "    <tr>\n",
       "      <th>2</th>\n",
       "      <td>Ayeyarwady</td>\n",
       "      <td>Dedaye</td>\n",
       "    </tr>\n",
       "    <tr>\n",
       "      <th>3</th>\n",
       "      <td>Ayeyarwady</td>\n",
       "      <td>Einme</td>\n",
       "    </tr>\n",
       "    <tr>\n",
       "      <th>4</th>\n",
       "      <td>Ayeyarwady</td>\n",
       "      <td>Du Yar</td>\n",
       "    </tr>\n",
       "  </tbody>\n",
       "</table>\n",
       "</div>"
      ],
      "text/plain": [
       "      SR_Name     name\n",
       "0  Ayeyarwady   Bogale\n",
       "1  Ayeyarwady  Danubyu\n",
       "2  Ayeyarwady   Dedaye\n",
       "3  Ayeyarwady    Einme\n",
       "4  Ayeyarwady   Du Yar"
      ]
     },
     "execution_count": 16,
     "metadata": {},
     "output_type": "execute_result"
    }
   ],
   "source": [
    "df_mimu.head()"
   ]
  },
  {
   "cell_type": "code",
   "execution_count": 17,
   "id": "bf1d8637",
   "metadata": {},
   "outputs": [
    {
     "name": "stdout",
     "output_type": "stream",
     "text": [
      "(536, 2) (14047, 2) (14583, 2)\n"
     ]
    }
   ],
   "source": [
    "print(df_towns.shape, df_villages.shape, df_mimu.shape)"
   ]
  },
  {
   "cell_type": "markdown",
   "id": "434cffd6",
   "metadata": {},
   "source": [
    "4. It remove the missing values from the combined one, for some reasons the duplicates are not dropped from this combined dataframe. But we remove the duplicates from the df_news"
   ]
  },
  {
   "cell_type": "code",
   "execution_count": 18,
   "id": "8f293208",
   "metadata": {},
   "outputs": [
    {
     "data": {
      "text/plain": [
       "SR_Name    0\n",
       "name       0\n",
       "dtype: int64"
      ]
     },
     "execution_count": 18,
     "metadata": {},
     "output_type": "execute_result"
    }
   ],
   "source": [
    "df_mimu.isna().sum()"
   ]
  },
  {
   "cell_type": "code",
   "execution_count": 19,
   "id": "97db4273",
   "metadata": {},
   "outputs": [
    {
     "data": {
      "text/plain": [
       "1573"
      ]
     },
     "execution_count": 19,
     "metadata": {},
     "output_type": "execute_result"
    }
   ],
   "source": [
    "df_mimu.duplicated().sum()"
   ]
  },
  {
   "cell_type": "code",
   "execution_count": 20,
   "id": "a0553e3e",
   "metadata": {},
   "outputs": [],
   "source": [
    "df_mimu = df_mimu.dropna()"
   ]
  },
  {
   "cell_type": "code",
   "execution_count": 21,
   "id": "cc819736",
   "metadata": {},
   "outputs": [
    {
     "name": "stdout",
     "output_type": "stream",
     "text": [
      "['Hainggyikyun' 'Myo Hla' 'Minhla' ... 'Pa Thi' 'Ta Mar Ta Kaw' 'Tet Thit']\n"
     ]
    }
   ],
   "source": [
    "duplicated_names = df_mimu['name'][df_mimu['name'].duplicated()].unique()\n",
    "print(duplicated_names)"
   ]
  },
  {
   "cell_type": "code",
   "execution_count": 22,
   "id": "0ace89d7",
   "metadata": {},
   "outputs": [
    {
     "name": "stdout",
     "output_type": "stream",
     "text": [
      "name\n",
      "Nyaung Pin Thar    27\n",
      "Thar Yar Kone      22\n",
      "Ywar Thit          21\n",
      "Nyaung Kone        20\n",
      "Ma Gyi Kone        18\n",
      "                   ..\n",
      "Zee Kaing           2\n",
      "Da Naw              2\n",
      "Ta Mar Kone         2\n",
      "Pi Tauk Pin         2\n",
      "Ku Lar Gyi Su       2\n",
      "Name: count, Length: 1547, dtype: int64\n"
     ]
    }
   ],
   "source": [
    "counts = df_mimu['name'].value_counts()\n",
    "duplicates = counts[counts > 1]\n",
    "print(duplicates)"
   ]
  },
  {
   "cell_type": "code",
   "execution_count": 23,
   "id": "9bbb4e68",
   "metadata": {},
   "outputs": [
    {
     "data": {
      "text/plain": [
       "(58789, 2)"
      ]
     },
     "execution_count": 23,
     "metadata": {},
     "output_type": "execute_result"
    }
   ],
   "source": [
    "df_news.shape"
   ]
  },
  {
   "cell_type": "code",
   "execution_count": 24,
   "id": "910e76de",
   "metadata": {},
   "outputs": [
    {
     "name": "stdout",
     "output_type": "stream",
     "text": [
      "(58789, 2) SR_Name      name          \n",
      "Sagaing      Monywa            1046\n",
      "             Kale              1005\n",
      "             Yinmarbin          785\n",
      "Mandalay     Pyigyitagon        672\n",
      "             Mandalay           524\n",
      "                               ... \n",
      "Rakhine      Sa Bai Kone          1\n",
      "Kachin       Hseng Awng           1\n",
      "Tanintharyi  Hpaung Taw Gyi       1\n",
      "Kachin       Htan Ta Pin          1\n",
      "Rakhine      Aung Ba La           1\n",
      "Name: count, Length: 4930, dtype: int64\n"
     ]
    }
   ],
   "source": [
    "print(df_news.shape, df_news.value_counts())"
   ]
  },
  {
   "cell_type": "code",
   "execution_count": 25,
   "id": "99bde838",
   "metadata": {},
   "outputs": [],
   "source": [
    "df_news = df_news.drop_duplicates()"
   ]
  },
  {
   "cell_type": "code",
   "execution_count": 26,
   "id": "be6e6b0f",
   "metadata": {},
   "outputs": [
    {
     "name": "stdout",
     "output_type": "stream",
     "text": [
      "(4930, 2) SR_Name     name         \n",
      "Ayeyarwady  Ah Choke Gyi     1\n",
      "Sagaing     Ma Gyi Tan       1\n",
      "            Ma Le Thar       1\n",
      "            Ma Khauk         1\n",
      "            Ma Hti Thar      1\n",
      "                            ..\n",
      "Magway      Tet Ma           1\n",
      "            Tei Pin Kan      1\n",
      "            Te Kone          1\n",
      "            Te Gyi           1\n",
      "Yangon      Zee Hpyu Kone    1\n",
      "Name: count, Length: 4930, dtype: int64\n"
     ]
    }
   ],
   "source": [
    "print(df_news.shape, df_news.value_counts())"
   ]
  },
  {
   "cell_type": "markdown",
   "id": "bcb6e06a",
   "metadata": {},
   "source": [
    "5. Unique names are extracted from the SR_Name column of the combined dataframe, then try to use the fuzzywuzzy(in my case updated to thefuzz library) to get the best matching elements with score_cutoff at 90 which means only matches with 90% or above is considered"
   ]
  },
  {
   "cell_type": "code",
   "execution_count": 27,
   "id": "b9e20e1a",
   "metadata": {},
   "outputs": [],
   "source": [
    "mimu_SR_Name = df_mimu['SR_Name'].unique()"
   ]
  },
  {
   "cell_type": "code",
   "execution_count": 28,
   "id": "9d600d03",
   "metadata": {},
   "outputs": [
    {
     "name": "stdout",
     "output_type": "stream",
     "text": [
      "['Ayeyarwady' 'Bago (East)' 'Bago (West)' 'Chin' 'Kachin' 'Kayah' 'Kayin'\n",
      " 'Magway' 'Mandalay' 'Mon' 'Nay Pyi Taw' 'Rakhine' 'Sagaing' 'Shan (East)'\n",
      " 'Shan (North)' 'Shan (South)' 'Tanintharyi' 'Yangon']\n"
     ]
    }
   ],
   "source": [
    "print(mimu_SR_Name)"
   ]
  },
  {
   "cell_type": "code",
   "execution_count": 29,
   "id": "efd637b1",
   "metadata": {},
   "outputs": [],
   "source": [
    "from thefuzz import process"
   ]
  },
  {
   "cell_type": "code",
   "execution_count": 30,
   "id": "ae1d251c",
   "metadata": {},
   "outputs": [],
   "source": [
    "def find_closest_match(row, mimu_SR_Name):\n",
    "    matches = process.extractOne(row, mimu_SR_Name, score_cutoff=90)\n",
    "    return matches[0]"
   ]
  },
  {
   "cell_type": "code",
   "execution_count": 31,
   "id": "c0f5b37f",
   "metadata": {},
   "outputs": [],
   "source": [
    "df_news.loc[:, 'SR_Name']  = df_news['SR_Name'].apply(lambda x: find_closest_match(x, mimu_SR_Name))"
   ]
  },
  {
   "cell_type": "code",
   "execution_count": 32,
   "id": "8a5e120a",
   "metadata": {},
   "outputs": [
    {
     "data": {
      "text/html": [
       "<div>\n",
       "<style scoped>\n",
       "    .dataframe tbody tr th:only-of-type {\n",
       "        vertical-align: middle;\n",
       "    }\n",
       "\n",
       "    .dataframe tbody tr th {\n",
       "        vertical-align: top;\n",
       "    }\n",
       "\n",
       "    .dataframe thead th {\n",
       "        text-align: right;\n",
       "    }\n",
       "</style>\n",
       "<table border=\"1\" class=\"dataframe\">\n",
       "  <thead>\n",
       "    <tr style=\"text-align: right;\">\n",
       "      <th></th>\n",
       "      <th>SR_Name</th>\n",
       "      <th>name</th>\n",
       "    </tr>\n",
       "  </thead>\n",
       "  <tbody>\n",
       "    <tr>\n",
       "      <th>0</th>\n",
       "      <td>Kachin</td>\n",
       "      <td>Hseng Taung (Ywar Haung)</td>\n",
       "    </tr>\n",
       "    <tr>\n",
       "      <th>2</th>\n",
       "      <td>Shan (South)</td>\n",
       "      <td>Lel Kyar</td>\n",
       "    </tr>\n",
       "    <tr>\n",
       "      <th>4</th>\n",
       "      <td>Sagaing</td>\n",
       "      <td>Nyaung Pin Kan</td>\n",
       "    </tr>\n",
       "    <tr>\n",
       "      <th>6</th>\n",
       "      <td>Magway</td>\n",
       "      <td>Ywar Taw</td>\n",
       "    </tr>\n",
       "    <tr>\n",
       "      <th>10</th>\n",
       "      <td>Chin</td>\n",
       "      <td>Tlanglo</td>\n",
       "    </tr>\n",
       "  </tbody>\n",
       "</table>\n",
       "</div>"
      ],
      "text/plain": [
       "         SR_Name                      name\n",
       "0         Kachin  Hseng Taung (Ywar Haung)\n",
       "2   Shan (South)                  Lel Kyar\n",
       "4        Sagaing            Nyaung Pin Kan\n",
       "6         Magway                  Ywar Taw\n",
       "10          Chin                   Tlanglo"
      ]
     },
     "execution_count": 32,
     "metadata": {},
     "output_type": "execute_result"
    }
   ],
   "source": [
    "df_news.head()"
   ]
  },
  {
   "cell_type": "code",
   "execution_count": 33,
   "id": "b419f38f",
   "metadata": {},
   "outputs": [],
   "source": [
    "df_mimu = pd.concat([df_mimu, df_news], ignore_index=True)"
   ]
  },
  {
   "cell_type": "code",
   "execution_count": 34,
   "id": "713e2fdc",
   "metadata": {},
   "outputs": [
    {
     "data": {
      "text/plain": [
       "(19513, 2)"
      ]
     },
     "execution_count": 34,
     "metadata": {},
     "output_type": "execute_result"
    }
   ],
   "source": [
    "df_mimu.shape"
   ]
  },
  {
   "cell_type": "markdown",
   "id": "94284bee",
   "metadata": {},
   "source": [
    "This is how we get the final MMNames_clean.csv file where data are cleaned."
   ]
  },
  {
   "cell_type": "markdown",
   "id": "deb44893",
   "metadata": {},
   "source": [
    "## Data Preprocessing Function Breakdown"
   ]
  },
  {
   "cell_type": "markdown",
   "id": "c02bcf2a",
   "metadata": {},
   "source": [
    "nltk is the key in this function\\\n",
    "punkt, stopwords, wordnet\\\n",
    "the clean_text function is not used in this project"
   ]
  },
  {
   "cell_type": "markdown",
   "id": "d2d49711",
   "metadata": {},
   "source": [
    "preprocess_category and preprocess_onehot are the only functions being used for the initial phase.\\\n",
    "preprocessing_category\\\n",
    "\n",
    "```df[column] = df[column].cat.codes```\n",
    "\n",
    "This create label encoding for the categorical column. (This will create ordinality in the data)\n",
    "\n",
    "```df = pd.get_dummies(df, columns=[column])```\n",
    "\n",
    "This create one-hot encoding for the column."
   ]
  },
  {
   "cell_type": "code",
   "execution_count": 37,
   "id": "d5a813ae",
   "metadata": {},
   "outputs": [
    {
     "name": "stdout",
     "output_type": "stream",
     "text": [
      "Rows with special characters: 925 out of 19513\n"
     ]
    }
   ],
   "source": [
    "has_special = df_mimu['name'].str.contains(r'[^a-zA-Z\\s]', na=False)\n",
    "print(f\"Rows with special characters: {has_special.sum()} out of {len(df_mimu)}\")"
   ]
  },
  {
   "cell_type": "markdown",
   "id": "e7529110",
   "metadata": {},
   "source": [
    "here we can note that there are some special characters in some of the rows, so I figured we need to use some of the functions here."
   ]
  },
  {
   "cell_type": "code",
   "execution_count": null,
   "id": "29073555",
   "metadata": {},
   "outputs": [],
   "source": [
    "def preprocess_textinput(df, text_column):    \n",
    "    vectorizer = CountVectorizer(max_features=5000)  \n",
    "    df['cleaned_text'] = df[text_column].apply(remove_special_characters)    \n",
    "    X = vectorizer.fit_transform(df['cleaned_text']).toarray()\n",
    "    return X\n",
    "\n",
    "def preprocess_textinput_tfidf(df, text_column):    \n",
    "    vectorizer = TfidfVectorizer(max_features=5000)  \n",
    "    df['cleaned_text'] = df[text_column].apply(remove_special_characters)    \n",
    "    X = vectorizer.fit_transform(df['cleaned_text']).toarray()\n",
    "    return X"
   ]
  },
  {
   "cell_type": "markdown",
   "id": "ecc8714c",
   "metadata": {},
   "source": [
    "The vectorizers are one of the important parts of this project, as this introduce a new concept of weighting the words in the text instead of one-hot encoding. This reduce the total parameters needed to compute significantly. "
   ]
  },
  {
   "cell_type": "markdown",
   "id": "6704ae7e",
   "metadata": {},
   "source": [
    "# Project Code Breakdown"
   ]
  },
  {
   "cell_type": "markdown",
   "id": "63e79be2",
   "metadata": {},
   "source": [
    "Cleaning and preprocessing are discussed above. We will look at data preparation and model creationg in this step.\\\n",
    "The preprocessed data are tehn split into 70/30 train-test split with SR_Name being the classification target."
   ]
  },
  {
   "cell_type": "markdown",
   "id": "00718c67",
   "metadata": {},
   "source": [
    "2 hidden layers with 32 and 16 neurons are used for initial model's hidden layers and they are both activated using 'relu'."
   ]
  },
  {
   "cell_type": "code",
   "execution_count": null,
   "id": "c701c13f",
   "metadata": {},
   "outputs": [],
   "source": [
    "model.compile(optimizer='adam', loss='sparse_categorical_crossentropy', metrics=['accuracy'])"
   ]
  },
  {
   "cell_type": "markdown",
   "id": "83c968ea",
   "metadata": {},
   "source": [
    "The model is compile with \n",
    "1. adam optimizer: which works well for most of the problems\n",
    "2. spare_categorical_crossentropy: which works similar to how we do label encoding for the target column ('SR_Name'), efficiently handles all 18 classes\n",
    "3. accuracy: since we wants to see how accurate the model is?"
   ]
  },
  {
   "cell_type": "markdown",
   "id": "1307ef0a",
   "metadata": {},
   "source": [
    "evaluated using classification_report since this is multi-class classification problem."
   ]
  }
 ],
 "metadata": {
  "kernelspec": {
   "display_name": "deepL",
   "language": "python",
   "name": "python3"
  },
  "language_info": {
   "codemirror_mode": {
    "name": "ipython",
    "version": 3
   },
   "file_extension": ".py",
   "mimetype": "text/x-python",
   "name": "python",
   "nbconvert_exporter": "python",
   "pygments_lexer": "ipython3",
   "version": "3.11.5"
  }
 },
 "nbformat": 4,
 "nbformat_minor": 5
}
