{
 "cells": [
  {
   "cell_type": "code",
   "execution_count": null,
   "metadata": {},
   "outputs": [],
   "source": [
    "#!pip install openpyxl for reading excel"
   ]
  },
  {
   "cell_type": "code",
   "execution_count": 1,
   "metadata": {},
   "outputs": [],
   "source": [
    "import data_cleaning as dc\n",
    "dc.main()"
   ]
  },
  {
   "cell_type": "markdown",
   "metadata": {},
   "source": [
    "The first step in our pipeline involves loading the data into a pandas DataFrame. This is accomplished using the pandas library, which is imported at the beginning of the script."
   ]
  },
  {
   "cell_type": "code",
   "execution_count": 2,
   "metadata": {},
   "outputs": [],
   "source": [
    "# Step 1: Load the data\n",
    "import pandas as pd\n",
    "\n",
    "df = pd.read_csv('./data/MMNames_clean.csv')"
   ]
  },
  {
   "cell_type": "code",
   "execution_count": 3,
   "metadata": {},
   "outputs": [
    {
     "name": "stderr",
     "output_type": "stream",
     "text": [
      "[nltk_data] Downloading package punkt to /Users/zno/nltk_data...\n",
      "[nltk_data]   Package punkt is already up-to-date!\n",
      "[nltk_data] Downloading package stopwords to /Users/zno/nltk_data...\n",
      "[nltk_data]   Package stopwords is already up-to-date!\n",
      "[nltk_data] Downloading package wordnet to /Users/zno/nltk_data...\n",
      "[nltk_data]   Package wordnet is already up-to-date!\n"
     ]
    },
    {
     "name": "stdout",
     "output_type": "stream",
     "text": [
      "(13659, 13003) (5854, 13003)\n"
     ]
    }
   ],
   "source": [
    "# Step 2: Prepare the data\n",
    "import data_preprocessing as dp\n",
    "from sklearn.preprocessing import StandardScaler\n",
    "from sklearn.model_selection import train_test_split\n",
    "\n",
    "df = dp.preprocess_category(df,'SR_Name')\n",
    "df = dp.preprocess_onehot(df,'name')\n",
    "\n",
    "y = df['SR_Name'].values \n",
    "X = df.drop(columns=['SR_Name']).values\n",
    "\n",
    "X_train, X_test, y_train, y_test = train_test_split(X, y, test_size=0.3, random_state=42)\n",
    "print(X_train.shape, X_test.shape)\n"
   ]
  },
  {
   "cell_type": "code",
   "execution_count": 23,
   "metadata": {},
   "outputs": [],
   "source": [
    "# Step 3: Build a NN model with TensorFlow\n",
    "import tensorflow as tf\n",
    "\n",
    "def create_classification_model(input_shape, num_classes, params={}):\n",
    "    model = tf.keras.Sequential([\n",
    "        tf.keras.Input(shape=input_shape),\n",
    "        tf.keras.layers.Dense(128, activation='relu'),\n",
    "        tf.keras.layers.Dense(64, activation='relu'),\n",
    "        tf.keras.layers.Dense(32, activation='relu'),\n",
    "        tf.keras.layers.Dense(16, activation='relu'),\n",
    "        tf.keras.layers.Dense(num_classes, activation='softmax')\n",
    "    ])\n",
    "\n",
    "    model.compile(optimizer='adam', loss='sparse_categorical_crossentropy', metrics=['accuracy'])\n",
    "    \n",
    "    return model"
   ]
  },
  {
   "cell_type": "code",
   "execution_count": 24,
   "metadata": {},
   "outputs": [
    {
     "name": "stdout",
     "output_type": "stream",
     "text": [
      "93.62240314483643\n"
     ]
    }
   ],
   "source": [
    "# Step 4: Create and train the model\n",
    "import time\n",
    "\n",
    "start_time = time.time()\n",
    "model = create_classification_model(input_shape=[X_train.shape[1]],num_classes=len(df['SR_Name'].unique()), )\n",
    "history = model.fit(X_train, y_train, epochs=50, batch_size=32, validation_data=(X_test, y_test), verbose=0)\n",
    "\n",
    "training_time = time.time() - start_time\n",
    "print(training_time)"
   ]
  },
  {
   "cell_type": "code",
   "execution_count": 25,
   "metadata": {},
   "outputs": [
    {
     "name": "stdout",
     "output_type": "stream",
     "text": [
      "Model: \"sequential_2\"\n",
      "_________________________________________________________________\n",
      " Layer (type)                Output Shape              Param #   \n",
      "=================================================================\n",
      " dense_7 (Dense)             (None, 128)               1664512   \n",
      "                                                                 \n",
      " dense_8 (Dense)             (None, 64)                8256      \n",
      "                                                                 \n",
      " dense_9 (Dense)             (None, 32)                2080      \n",
      "                                                                 \n",
      " dense_10 (Dense)            (None, 16)                528       \n",
      "                                                                 \n",
      " dense_11 (Dense)            (None, 18)                306       \n",
      "                                                                 \n",
      "=================================================================\n",
      "Total params: 1,675,682\n",
      "Trainable params: 1,675,682\n",
      "Non-trainable params: 0\n",
      "_________________________________________________________________\n"
     ]
    }
   ],
   "source": [
    "model.summary()"
   ]
  },
  {
   "cell_type": "code",
   "execution_count": 26,
   "metadata": {},
   "outputs": [],
   "source": [
    "# Step 5: Evaluate the model\n",
    "\n",
    "from sklearn.metrics import confusion_matrix\n",
    "from sklearn.metrics import classification_report\n",
    "from sklearn.metrics import accuracy_score\n",
    "\n",
    "y_pred = model.predict(X_test, batch_size=32, verbose=0)\n",
    "y_pred = y_pred.argmax(axis=1)\n",
    "report = classification_report(y_test, y_pred, output_dict=True)\n",
    "report_df = pd.DataFrame(report).round(2).transpose()\n",
    "report_df.to_csv('./data/cls_report_test.csv', index=False)\n",
    "\n",
    "\n"
   ]
  },
  {
   "cell_type": "code",
   "execution_count": 27,
   "metadata": {},
   "outputs": [
    {
     "name": "stdout",
     "output_type": "stream",
     "text": [
      "0.2801503245644004\n",
      "              precision    recall  f1-score   support\n",
      "\n",
      "           0       0.13      0.78      0.22       617\n",
      "           1       0.34      0.13      0.19       273\n",
      "           2       0.35      0.21      0.26       243\n",
      "           3       0.95      0.18      0.30       214\n",
      "           4       0.61      0.17      0.27       258\n",
      "           5       0.62      0.15      0.24        54\n",
      "           6       0.68      0.16      0.26       171\n",
      "           7       0.54      0.23      0.32       664\n",
      "           8       0.39      0.22      0.29       569\n",
      "           9       0.54      0.25      0.34       199\n",
      "          10       0.47      0.08      0.14        85\n",
      "          11       0.64      0.22      0.33       399\n",
      "          12       0.53      0.30      0.39       968\n",
      "          13       0.43      0.11      0.17        82\n",
      "          14       0.79      0.22      0.35       472\n",
      "          15       0.52      0.18      0.26       188\n",
      "          16       0.61      0.30      0.41       152\n",
      "          17       0.52      0.19      0.27       246\n",
      "\n",
      "    accuracy                           0.28      5854\n",
      "   macro avg       0.54      0.23      0.28      5854\n",
      "weighted avg       0.51      0.28      0.30      5854\n",
      "\n"
     ]
    }
   ],
   "source": [
    "print(accuracy_score(y_test, y_pred))\n",
    "print(classification_report(y_test, y_pred))"
   ]
  },
  {
   "cell_type": "code",
   "execution_count": 28,
   "metadata": {},
   "outputs": [],
   "source": [
    "y_pred = model.predict(X_train, batch_size=32, verbose=0)\n",
    "y_pred = y_pred.argmax(axis=1)\n",
    "report = classification_report(y_train, y_pred, output_dict=True)\n",
    "report_df = pd.DataFrame(report).round(2).transpose()\n",
    "report_df.to_csv('./data/cls_report_train.csv', index=False)"
   ]
  },
  {
   "cell_type": "code",
   "execution_count": 29,
   "metadata": {},
   "outputs": [
    {
     "name": "stdout",
     "output_type": "stream",
     "text": [
      "0.86382604875906\n",
      "              precision    recall  f1-score   support\n",
      "\n",
      "           0       0.87      0.84      0.85      1561\n",
      "           1       0.82      0.78      0.80       648\n",
      "           2       0.75      0.82      0.78       571\n",
      "           3       0.99      0.98      0.99       434\n",
      "           4       0.94      0.91      0.93       620\n",
      "           5       0.93      0.95      0.94       174\n",
      "           6       0.96      0.88      0.92       381\n",
      "           7       0.88      0.76      0.82      1580\n",
      "           8       0.75      0.87      0.81      1334\n",
      "           9       0.86      0.87      0.86       401\n",
      "          10       0.92      0.63      0.75       149\n",
      "          11       0.88      0.92      0.90       932\n",
      "          12       0.82      0.88      0.85      2310\n",
      "          13       0.98      0.94      0.96       175\n",
      "          14       0.97      0.94      0.95      1004\n",
      "          15       0.89      0.89      0.89       428\n",
      "          16       0.88      0.94      0.91       372\n",
      "          17       0.91      0.79      0.85       585\n",
      "\n",
      "    accuracy                           0.86     13659\n",
      "   macro avg       0.89      0.87      0.88     13659\n",
      "weighted avg       0.87      0.86      0.86     13659\n",
      "\n"
     ]
    }
   ],
   "source": [
    "print(accuracy_score(y_train, y_pred))\n",
    "print(classification_report(y_train, y_pred))"
   ]
  }
 ],
 "metadata": {
  "kernelspec": {
   "display_name": "deepL",
   "language": "python",
   "name": "python3"
  },
  "language_info": {
   "codemirror_mode": {
    "name": "ipython",
    "version": 3
   },
   "file_extension": ".py",
   "mimetype": "text/x-python",
   "name": "python",
   "nbconvert_exporter": "python",
   "pygments_lexer": "ipython3",
   "version": "3.11.0"
  }
 },
 "nbformat": 4,
 "nbformat_minor": 2
}
